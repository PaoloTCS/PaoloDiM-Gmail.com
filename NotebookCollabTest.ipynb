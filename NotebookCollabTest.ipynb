{
  "nbformat": 4,
  "nbformat_minor": 0,
  "metadata": {
    "colab": {
      "name": "NotebookCollabTest",
      "provenance": [],
      "collapsed_sections": [],
      "authorship_tag": "ABX9TyM3cL2zkpceCnPuZdcfmxIR",
      "include_colab_link": true
    },
    "kernelspec": {
      "name": "python3",
      "display_name": "Python 3"
    }
  },
  "cells": [
    {
      "cell_type": "markdown",
      "metadata": {
        "id": "view-in-github",
        "colab_type": "text"
      },
      "source": [
        "<a href=\"https://colab.research.google.com/github/PaoloTCS/PaoloDiM-Gmail.com/blob/master/NotebookCollabTest.ipynb\" target=\"_parent\"><img src=\"https://colab.research.google.com/assets/colab-badge.svg\" alt=\"Open In Colab\"/></a>"
      ]
    },
    {
      "cell_type": "code",
      "metadata": {
        "id": "DEvMiQN9Brix",
        "colab_type": "code",
        "colab": {}
      },
      "source": [
        "import pandas as pd\n"
      ],
      "execution_count": null,
      "outputs": []
    },
    {
      "cell_type": "code",
      "metadata": {
        "id": "3iVqFtlY_vkD",
        "colab_type": "code",
        "colab": {}
      },
      "source": [
        "url = 'https://raw.githubusercontent.com/PaoloTCS/SophiePaolo1/master/insiderbuyingsellingtest.csv'"
      ],
      "execution_count": null,
      "outputs": []
    },
    {
      "cell_type": "code",
      "metadata": {
        "id": "72wdXVjpBj10",
        "colab_type": "code",
        "colab": {}
      },
      "source": [
        "df1 = pd.read_csv(url)"
      ],
      "execution_count": null,
      "outputs": []
    },
    {
      "cell_type": "code",
      "metadata": {
        "id": "KH0Ech6qB5h8",
        "colab_type": "code",
        "colab": {
          "base_uri": "https://localhost:8080/",
          "height": 316
        },
        "outputId": "9b20afc3-6e0d-42c4-e114-77dea65fbfc7"
      },
      "source": [
        "print(df1)"
      ],
      "execution_count": null,
      "outputs": [
        {
          "output_type": "stream",
          "text": [
            "   Symbol                        Company Name  ...      Amount            File Date\n",
            "0     TPL            TEXAS PACIFIC LAND TRUST  ...     135,027  2020-06-29 10:42:39\n",
            "1      AT                 ATLANTIC POWER CORP  ...       4,810   2020-06-29 9:08:40\n",
            "2    AQMS                   Aqua Metals, Inc.  ...         750   2020-06-29 8:55:36\n",
            "3    AQMS                   Aqua Metals, Inc.  ...         501   2020-06-29 8:55:15\n",
            "4    XAIR                    Beyond Air, Inc.  ...     260,750   2020-06-29 8:30:17\n",
            "5    SLNO             SOLENO THERAPEUTICS INC  ...  12,500,002  2020-06-26 19:49:29\n",
            "6    SLNO             SOLENO THERAPEUTICS INC  ...   3,076,500  2020-06-26 19:27:11\n",
            "7    SLNO             SOLENO THERAPEUTICS INC  ...   1,784,559  2020-06-26 19:14:36\n",
            "8    EPZM                       Epizyme, Inc.  ...     994,165  2020-06-26 19:12:45\n",
            "9    APDN            APPLIED DNA SCIENCES INC  ...   1,269,500  2020-06-26 18:47:12\n",
            "10    MGY             Magnolia Oil & Gas Corp  ...     139,661  2020-06-26 18:14:54\n",
            "11   BSIG  BrightSphere Investment Group Inc.  ...   6,336,705  2020-06-26 18:01:12\n",
            "12    TMQ                 Trilogy Metals Inc.  ...     357,769  2020-06-26 17:48:45\n",
            "13   BSIG  BrightSphere Investment Group Inc.  ...   6,336,705  2020-06-26 17:46:13\n",
            "\n",
            "[14 rows x 10 columns]\n"
          ],
          "name": "stdout"
        }
      ]
    },
    {
      "cell_type": "markdown",
      "metadata": {
        "id": "47MYL7Ipkvy8",
        "colab_type": "text"
      },
      "source": [
        "ToDo: Totals by ticker within a date. \n",
        "Make the whole thing a scrape once main code done. \n",
        "Create hyperlinks by ticker. \n",
        "File: Open in playground.  \n",
        "\n",
        "\n"
      ]
    }
  ]
}